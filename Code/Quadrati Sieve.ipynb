{
 "cells": [
  {
   "cell_type": "markdown",
   "metadata": {},
   "source": [
    "# Quadratic Sieve Algorithm \n",
    "\n",
    "$\\bf{\\text{input}}$ $n,B$ \n",
    "\n",
    "$\\bf{\\text{output}}$ Prime factors of $n$ \n",
    "\n",
    "\n",
    "### Algorithm\n",
    "\n",
    "${\\bf 1}.$ $S\\leftarrow \\{-1,2,p_2,...,p_t\\}$ such that legendre $(n,p_i)=1$ and $p_2<p_3<\\dots<p_t\\leq B$\n",
    "\n",
    "${\\bf 2}.$ $m \\gets \\lfloor \\sqrt n \\rfloor$\n",
    "\n",
    "${\\bf 3}.$ Collect $t+1$ pairs $(a_i,b_i)$, $x = 0, \\pm1, \\pm2 \\cdots$. $i\\gets 1$. While $i \\le t+1,$ do:\n",
    "\n",
    "${\\quad \\quad \\bf 3.1}.$ $b=q(x)=(x+m)^2-n$. Check if b is $B$-smooth. If not, pick new $x$\n",
    "\n",
    "${\\quad \\quad \\bf 3.2}.$ If $b$ is $B$-smooth and $b \\prod_{j=1}^t {p_j}^{e_{ij}}$, then $a_i\\gets (x+m), b_i\\gets b$, and $u_i=(u_{i1},u_{i2},\\cdots,u_{it})$, where $u_{ij}=e_{ij} \\mod 2$ for $1\\le j \\le t$\n",
    "\n",
    "${\\quad \\quad \\bf 3.3}.$ $i\\gets i+1$\n",
    "\n",
    "${\\bf 4}.$ With linear algebra find a non-empty subset $T \\subseteq \\{1,2,\\cdots.t+1\\}$, such that $\\sum_{i\\in T} u_i = 0$\n",
    "\n",
    "${\\bf 5}.$ $x=\\prod_{i\\in T} a_i \\mod n$\n",
    "\n",
    "${\\bf 6}.$ For each $j, 1\\leq j \\leq t, l_j = (\\sum_{i\\in T} e_{ij}/2)$\n",
    "\n",
    "${\\bf 7}.$ $y=\\prod_{j=1}^t {p_j}^{l_j}\\mod n$ \n",
    "\n",
    "${\\bf 8}.$ If $x\\equiv \\pm y \\mod n$, find another subset $T$ and go to step 5.\n",
    "\n",
    "${\\bf 9}.$ $d=\\gcd(x-y,n)$ and return $d$\n",
    "\n",
    "\n",
    "       \n",
    "\n",
    "### Pseudo Code"
   ]
  },
  {
   "cell_type": "code",
   "execution_count": 29,
   "metadata": {},
   "outputs": [
    {
     "name": "stdout",
     "output_type": "stream",
     "text": [
      "bits of N 48\n"
     ]
    }
   ],
   "source": [
    "# Initialization\n",
    "# parameters\n",
    "\n",
    "import primesieve\n",
    "import math\n",
    "%run auxiliary.ipynb\n",
    "\n",
    "L=[]\n",
    "i = 0\n",
    "p,q,N=rsa_modulus(50)\n",
    "print(\"bits of N\",bits(N))"
   ]
  },
  {
   "cell_type": "code",
   "execution_count": 30,
   "metadata": {},
   "outputs": [
    {
     "name": "stdout",
     "output_type": "stream",
     "text": [
      "N,p,q,B: 142740025653739 14934119 9557981 851.028186548765\n"
     ]
    }
   ],
   "source": [
    "B = Ln(N)**.55 + 500\n",
    "\n",
    "\n",
    "print(\"N,p,q,B:\",N,p,q,B)\n",
    "#print(\"I,J,bits of J-I\",I,J,bits(J-I))\n",
    "#if bits(J-I)>25:\n",
    "#    print(\"You may experience memory problems\")"
   ]
  },
  {
   "cell_type": "code",
   "execution_count": 31,
   "metadata": {},
   "outputs": [
    {
     "name": "stdout",
     "output_type": "stream",
     "text": [
      "P_QS: [-1, 2, 3, 5, 17, 23, 31, 41, 59, 71, 73, 79, 83, 89, 97, 101, 127, 131, 149, 173, 181, 191, 193, 199, 211, 223, 229, 239, 241, 251, 257, 263, 271, 281, 283, 307, 311, 313, 317, 337, 373, 379, 401, 419, 421, 431, 443, 449, 461, 467, 479, 487, 547, 563, 577, 587, 593, 599, 601, 641, 647, 661, 709, 733, 751, 787, 797, 823, 827, 829, 839]\n"
     ]
    }
   ],
   "source": [
    "# step 1\n",
    "\n",
    "P = primesieve.primes(B) \n",
    "P_QS = [-1,2]+[p  for p in P[1::] if legendre_symbol(N,p)==1]\n",
    "print(\"P_QS:\",P_QS)\n",
    "t = len(P_QS)"
   ]
  },
  {
   "cell_type": "code",
   "execution_count": 32,
   "metadata": {},
   "outputs": [
    {
     "name": "stdout",
     "output_type": "stream",
     "text": [
      "I will use trial division\n"
     ]
    }
   ],
   "source": [
    "# we use trial division\n",
    "print(\"I will use trial division\")\n",
    "num_of_rows = t+15\n",
    "num_of_cols = t\n",
    "    \n",
    "i = 1\n",
    "x = 0                           #the x values are chosen in the order 0, ±1, ±2,..\n",
    "change_x=1\n",
    "a=[]                            #the list with B-smooth values x[i] of the form (x+m) for some x in [0,1,...,t+1]\n",
    "    \n",
    "m = math.floor(math.sqrt(N))\n",
    "u = np.zeros( (num_of_rows, num_of_cols) )\n",
    "e = np.zeros( (num_of_rows, num_of_cols) )\n",
    "bs=[]    \n",
    "\n",
    "while i<=num_of_rows:   #since i starts from 1 \n",
    "    b = ((x+m)**2)- N   \n",
    "\n",
    "    if is_smooth(b,P_QS):  #test using trial division by elements in factor_base whether b is pt-smooth\n",
    "        a.append(x+m) \n",
    "        bs.append(b)\n",
    "        b_set = [j for j in trial_division(b)]\n",
    "            \n",
    "        if b<0: \n",
    "            #if q(xi)<0 then the first factor in factor base is 1 representing -1\n",
    "            u[i-1,0]=1 # i-1 because i starts from 1 \n",
    "            e[i-1,0]=1\n",
    "        for j in range(len(b_set)):\n",
    "            #b_set[j][0] is the prime factor and with index we find its position, aka the column in matrix u                 \n",
    "            u[i-1,P_QS.index(b_set[j])]= exponent(b_set,b_set[j])%2\n",
    "            e[i-1,P_QS.index(b_set[j])]= exponent(b_set,b_set[j])           \n",
    "        i = i+1   \n",
    "    #pick new x\n",
    "    if change_x==1:\n",
    "        if x<0:\n",
    "            x=x*(-1)\n",
    "        x=x+1\n",
    "    else:\n",
    "        x=x*(-1)\n",
    "    change_x=change_x * (-1)"
   ]
  },
  {
   "cell_type": "code",
   "execution_count": 33,
   "metadata": {},
   "outputs": [],
   "source": [
    "eche = row_echelon(u.transpose())\n",
    "eche = eche.transpose() "
   ]
  },
  {
   "cell_type": "code",
   "execution_count": null,
   "metadata": {},
   "outputs": [],
   "source": [
    "C = initialization_for_C(eche)\n",
    "\n",
    "for i in range(2**100):\n",
    "    sol = pick_a_random_solution(C)\n",
    "    \n",
    "    if bits(N)<=80:\n",
    "        F = factor_(bs,a,sol,N) \n",
    "    else:    \n",
    "        BS = [smooth[x][0]**2 - N for x in range(len(smooth))]\n",
    "        A = [smooth[x][0] for x in range(len(smooth))]\n",
    "        F = factor_(BS,A,sol,N) \n",
    "    \n",
    "    if F>1 and F<N:\n",
    "        f2 = N / F\n",
    "        print(\"A solution  was found\")\n",
    "        print(\"Factors: \",F,f2)\n",
    "        break\n",
    "        \n",
    "if i == 2**10-1:\n",
    "    print(\"no solution found\")"
   ]
  },
  {
   "cell_type": "code",
   "execution_count": null,
   "metadata": {},
   "outputs": [],
   "source": []
  },
  {
   "cell_type": "code",
   "execution_count": null,
   "metadata": {},
   "outputs": [],
   "source": []
  }
 ],
 "metadata": {
  "kernelspec": {
   "display_name": "Python 3",
   "language": "python",
   "name": "python3"
  },
  "language_info": {
   "codemirror_mode": {
    "name": "ipython",
    "version": 3
   },
   "file_extension": ".py",
   "mimetype": "text/x-python",
   "name": "python",
   "nbconvert_exporter": "python",
   "pygments_lexer": "ipython3",
   "version": "3.8.10"
  }
 },
 "nbformat": 4,
 "nbformat_minor": 4
}
